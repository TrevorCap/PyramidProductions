{
 "cells": [
  {
   "cell_type": "code",
   "execution_count": 1,
   "metadata": {},
   "outputs": [],
   "source": [
    "# Dependencies\n",
    "import csv\n",
    "import matplotlib.pyplot as plt\n",
    "import pandas as pd\n",
    "import numpy as np\n",
    "from pprint import pprint"
   ]
  },
  {
   "cell_type": "code",
<<<<<<< HEAD
   "execution_count": 16,
   "metadata": {
    "scrolled": true
   },
=======
   "execution_count": 3,
   "metadata": {},
>>>>>>> baf55d56abfef2b2e95602cd8a5bb4f17cebd968
   "outputs": [
    {
     "data": {
      "text/html": [
       "<div>\n",
       "<style scoped>\n",
       "    .dataframe tbody tr th:only-of-type {\n",
       "        vertical-align: middle;\n",
       "    }\n",
       "\n",
       "    .dataframe tbody tr th {\n",
       "        vertical-align: top;\n",
       "    }\n",
       "\n",
       "    .dataframe thead th {\n",
       "        text-align: right;\n",
       "    }\n",
       "</style>\n",
       "<table border=\"1\" class=\"dataframe\">\n",
       "  <thead>\n",
       "    <tr style=\"text-align: right;\">\n",
       "      <th></th>\n",
       "      <th>Year</th>\n",
       "      <th>Variable</th>\n",
       "      <th>Unit</th>\n",
       "      <th>Commodity</th>\n",
       "      <th>Primary weight</th>\n",
       "      <th>Loss from primary to retail weight</th>\n",
       "      <th>Retail weight</th>\n",
       "      <th>Loss from retail/institutional to consumer level</th>\n",
       "      <th>Consumer weight</th>\n",
       "      <th>Nonedible share</th>\n",
       "      <th>Edible weight</th>\n",
       "      <th>Other (cooking loss and uneaten food)</th>\n",
       "      <th>Total loss, all levels</th>\n",
       "      <th>Per capita availability (lbs/year)</th>\n",
       "      <th>Per capita availability (oz/day)</th>\n",
       "      <th>Per capita availability (g/day)</th>\n",
       "      <th>Calories per fat gram</th>\n",
       "      <th>Daily fat grams</th>\n",
       "      <th>Calories available daily</th>\n",
       "    </tr>\n",
       "  </thead>\n",
       "  <tbody>\n",
       "    <tr>\n",
       "      <th>0</th>\n",
       "      <td>1970</td>\n",
       "      <td>Added fats and oils</td>\n",
       "      <td>Pounds</td>\n",
       "      <td>Butter</td>\n",
       "      <td>5.365702</td>\n",
       "      <td>0.0</td>\n",
       "      <td>5.365702</td>\n",
       "      <td>7.0</td>\n",
       "      <td>4.990103</td>\n",
       "      <td>0.0</td>\n",
       "      <td>4.990103</td>\n",
       "      <td>35.0</td>\n",
       "      <td>39.55</td>\n",
       "      <td>3.243567</td>\n",
       "      <td>0.142184</td>\n",
       "      <td>4.030839</td>\n",
       "      <td>9.0</td>\n",
       "      <td>3.224671</td>\n",
       "      <td>29.022038</td>\n",
       "    </tr>\n",
       "    <tr>\n",
       "      <th>1</th>\n",
       "      <td>1971</td>\n",
       "      <td>Added fats and oils</td>\n",
       "      <td>Pounds</td>\n",
       "      <td>Butter</td>\n",
       "      <td>5.145983</td>\n",
       "      <td>0.0</td>\n",
       "      <td>5.145983</td>\n",
       "      <td>7.0</td>\n",
       "      <td>4.785764</td>\n",
       "      <td>0.0</td>\n",
       "      <td>4.785764</td>\n",
       "      <td>35.0</td>\n",
       "      <td>39.55</td>\n",
       "      <td>3.110747</td>\n",
       "      <td>0.136362</td>\n",
       "      <td>3.865780</td>\n",
       "      <td>9.0</td>\n",
       "      <td>3.092624</td>\n",
       "      <td>27.833619</td>\n",
       "    </tr>\n",
       "    <tr>\n",
       "      <th>2</th>\n",
       "      <td>1972</td>\n",
       "      <td>Added fats and oils</td>\n",
       "      <td>Pounds</td>\n",
       "      <td>Butter</td>\n",
       "      <td>4.951438</td>\n",
       "      <td>0.0</td>\n",
       "      <td>4.951438</td>\n",
       "      <td>7.0</td>\n",
       "      <td>4.604837</td>\n",
       "      <td>0.0</td>\n",
       "      <td>4.604837</td>\n",
       "      <td>35.0</td>\n",
       "      <td>39.55</td>\n",
       "      <td>2.993144</td>\n",
       "      <td>0.131206</td>\n",
       "      <td>3.719634</td>\n",
       "      <td>9.0</td>\n",
       "      <td>2.975707</td>\n",
       "      <td>26.781362</td>\n",
       "    </tr>\n",
       "    <tr>\n",
       "      <th>3</th>\n",
       "      <td>1973</td>\n",
       "      <td>Added fats and oils</td>\n",
       "      <td>Pounds</td>\n",
       "      <td>Butter</td>\n",
       "      <td>4.807295</td>\n",
       "      <td>0.0</td>\n",
       "      <td>4.807295</td>\n",
       "      <td>7.0</td>\n",
       "      <td>4.470784</td>\n",
       "      <td>0.0</td>\n",
       "      <td>4.470784</td>\n",
       "      <td>35.0</td>\n",
       "      <td>39.55</td>\n",
       "      <td>2.906010</td>\n",
       "      <td>0.127387</td>\n",
       "      <td>3.611350</td>\n",
       "      <td>9.0</td>\n",
       "      <td>2.889080</td>\n",
       "      <td>26.001719</td>\n",
       "    </tr>\n",
       "    <tr>\n",
       "      <th>4</th>\n",
       "      <td>1974</td>\n",
       "      <td>Added fats and oils</td>\n",
       "      <td>Pounds</td>\n",
       "      <td>Butter</td>\n",
       "      <td>4.460408</td>\n",
       "      <td>0.0</td>\n",
       "      <td>4.460408</td>\n",
       "      <td>7.0</td>\n",
       "      <td>4.148179</td>\n",
       "      <td>0.0</td>\n",
       "      <td>4.148179</td>\n",
       "      <td>35.0</td>\n",
       "      <td>39.55</td>\n",
       "      <td>2.696316</td>\n",
       "      <td>0.118195</td>\n",
       "      <td>3.350760</td>\n",
       "      <td>9.0</td>\n",
       "      <td>2.680608</td>\n",
       "      <td>24.125475</td>\n",
       "    </tr>\n",
       "  </tbody>\n",
       "</table>\n",
       "</div>"
      ],
      "text/plain": [
       "   Year             Variable    Unit Commodity  Primary weight  \\\n",
       "0  1970  Added fats and oils  Pounds    Butter        5.365702   \n",
       "1  1971  Added fats and oils  Pounds    Butter        5.145983   \n",
       "2  1972  Added fats and oils  Pounds    Butter        4.951438   \n",
       "3  1973  Added fats and oils  Pounds    Butter        4.807295   \n",
       "4  1974  Added fats and oils  Pounds    Butter        4.460408   \n",
       "\n",
       "   Loss from primary to retail weight  Retail weight  \\\n",
       "0                                 0.0       5.365702   \n",
       "1                                 0.0       5.145983   \n",
       "2                                 0.0       4.951438   \n",
       "3                                 0.0       4.807295   \n",
       "4                                 0.0       4.460408   \n",
       "\n",
       "   Loss from retail/institutional to consumer level  Consumer weight  \\\n",
       "0                                               7.0         4.990103   \n",
       "1                                               7.0         4.785764   \n",
       "2                                               7.0         4.604837   \n",
       "3                                               7.0         4.470784   \n",
       "4                                               7.0         4.148179   \n",
<<<<<<< HEAD
       "\n",
       "   Nonedible share  Edible weight  Other (cooking loss and uneaten food)  \\\n",
       "0              0.0       4.990103                                   35.0   \n",
       "1              0.0       4.785764                                   35.0   \n",
       "2              0.0       4.604837                                   35.0   \n",
       "3              0.0       4.470784                                   35.0   \n",
       "4              0.0       4.148179                                   35.0   \n",
       "\n",
=======
       "\n",
       "   Nonedible share  Edible weight  Other (cooking loss and uneaten food)  \\\n",
       "0              0.0       4.990103                                   35.0   \n",
       "1              0.0       4.785764                                   35.0   \n",
       "2              0.0       4.604837                                   35.0   \n",
       "3              0.0       4.470784                                   35.0   \n",
       "4              0.0       4.148179                                   35.0   \n",
       "\n",
>>>>>>> baf55d56abfef2b2e95602cd8a5bb4f17cebd968
       "   Total loss, all levels  Per capita availability (lbs/year)  \\\n",
       "0                   39.55                            3.243567   \n",
       "1                   39.55                            3.110747   \n",
       "2                   39.55                            2.993144   \n",
       "3                   39.55                            2.906010   \n",
       "4                   39.55                            2.696316   \n",
       "\n",
       "   Per capita availability (oz/day)  Per capita availability (g/day)  \\\n",
       "0                          0.142184                         4.030839   \n",
       "1                          0.136362                         3.865780   \n",
       "2                          0.131206                         3.719634   \n",
       "3                          0.127387                         3.611350   \n",
       "4                          0.118195                         3.350760   \n",
       "\n",
       "   Calories per fat gram  Daily fat grams  Calories available daily   \n",
       "0                    9.0         3.224671                  29.022038  \n",
       "1                    9.0         3.092624                  27.833619  \n",
       "2                    9.0         2.975707                  26.781362  \n",
       "3                    9.0         2.889080                  26.001719  \n",
       "4                    9.0         2.680608                  24.125475  "
      ]
     },
<<<<<<< HEAD
     "execution_count": 16,
=======
     "execution_count": 3,
>>>>>>> baf55d56abfef2b2e95602cd8a5bb4f17cebd968
     "metadata": {},
     "output_type": "execute_result"
    }
   ],
   "source": [
    "# Import the csvs into DataFrames\n",
    "dairy = pd.read_csv(\"Resources/dymfg.csv\")\n",
    "meat = pd.read_csv(\"Resources/mtpcc.csv\")\n",
    "fats = pd.read_csv(\"Resources/fats.csv\")\n",
    "fruit = pd.read_csv(\"Resources/frtot.csv\")\n",
    "veggie = pd.read_csv(\"Resources/vegtot.csv\")\n",
    "grain = pd.read_csv(\"Resources/grains.csv\")\n",
    "sugar = pd.read_csv(\"Resources/sugar.csv\")\n",
    "fats.head()"
   ]
  },
  {
   "cell_type": "code",
<<<<<<< HEAD
   "execution_count": 3,
=======
   "execution_count": 4,
>>>>>>> baf55d56abfef2b2e95602cd8a5bb4f17cebd968
   "metadata": {
    "scrolled": true
   },
   "outputs": [
    {
     "name": "stderr",
     "output_type": "stream",
     "text": [
      "C:\\Users\\kayti\\Anaconda3\\lib\\site-packages\\ipykernel_launcher.py:9: SettingWithCopyWarning: \n",
      "A value is trying to be set on a copy of a slice from a DataFrame.\n",
      "Try using .loc[row_indexer,col_indexer] = value instead\n",
      "\n",
      "See the caveats in the documentation: http://pandas.pydata.org/pandas-docs/stable/indexing.html#indexing-view-versus-copy\n",
      "  if __name__ == '__main__':\n",
      "C:\\Users\\kayti\\Anaconda3\\lib\\site-packages\\ipykernel_launcher.py:13: SettingWithCopyWarning: \n",
      "A value is trying to be set on a copy of a slice from a DataFrame.\n",
      "Try using .loc[row_indexer,col_indexer] = value instead\n",
      "\n",
      "See the caveats in the documentation: http://pandas.pydata.org/pandas-docs/stable/indexing.html#indexing-view-versus-copy\n",
      "  del sys.path[0]\n",
      "C:\\Users\\kayti\\Anaconda3\\lib\\site-packages\\ipykernel_launcher.py:17: SettingWithCopyWarning: \n",
      "A value is trying to be set on a copy of a slice from a DataFrame.\n",
      "Try using .loc[row_indexer,col_indexer] = value instead\n",
      "\n",
      "See the caveats in the documentation: http://pandas.pydata.org/pandas-docs/stable/indexing.html#indexing-view-versus-copy\n",
      "C:\\Users\\kayti\\Anaconda3\\lib\\site-packages\\ipykernel_launcher.py:21: SettingWithCopyWarning: \n",
      "A value is trying to be set on a copy of a slice from a DataFrame.\n",
      "Try using .loc[row_indexer,col_indexer] = value instead\n",
      "\n",
      "See the caveats in the documentation: http://pandas.pydata.org/pandas-docs/stable/indexing.html#indexing-view-versus-copy\n",
      "C:\\Users\\kayti\\Anaconda3\\lib\\site-packages\\ipykernel_launcher.py:25: SettingWithCopyWarning: \n",
      "A value is trying to be set on a copy of a slice from a DataFrame.\n",
      "Try using .loc[row_indexer,col_indexer] = value instead\n",
      "\n",
      "See the caveats in the documentation: http://pandas.pydata.org/pandas-docs/stable/indexing.html#indexing-view-versus-copy\n",
      "C:\\Users\\kayti\\Anaconda3\\lib\\site-packages\\ipykernel_launcher.py:29: SettingWithCopyWarning: \n",
      "A value is trying to be set on a copy of a slice from a DataFrame.\n",
      "Try using .loc[row_indexer,col_indexer] = value instead\n",
      "\n",
      "See the caveats in the documentation: http://pandas.pydata.org/pandas-docs/stable/indexing.html#indexing-view-versus-copy\n"
     ]
    },
    {
     "data": {
      "text/html": [
       "<div>\n",
       "<style scoped>\n",
       "    .dataframe tbody tr th:only-of-type {\n",
       "        vertical-align: middle;\n",
       "    }\n",
       "\n",
       "    .dataframe tbody tr th {\n",
       "        vertical-align: top;\n",
       "    }\n",
       "\n",
       "    .dataframe thead th {\n",
       "        text-align: right;\n",
       "    }\n",
       "</style>\n",
       "<table border=\"1\" class=\"dataframe\">\n",
       "  <thead>\n",
       "    <tr style=\"text-align: right;\">\n",
       "      <th></th>\n",
       "      <th>Year</th>\n",
       "      <th>Dairy</th>\n",
       "      <th>Meat</th>\n",
       "      <th>Fats</th>\n",
       "      <th>Fruit</th>\n",
       "      <th>Vegetable</th>\n",
       "      <th>Grain</th>\n",
       "      <th>Sugar</th>\n",
       "    </tr>\n",
       "  </thead>\n",
       "  <tbody>\n",
       "    <tr>\n",
       "      <th>0</th>\n",
       "      <td>1970</td>\n",
       "      <td>250.29</td>\n",
       "      <td>508.90</td>\n",
       "      <td>346.18</td>\n",
       "      <td>71.28</td>\n",
       "      <td>134.64</td>\n",
       "      <td>409.81</td>\n",
       "      <td>332.54</td>\n",
       "    </tr>\n",
       "    <tr>\n",
       "      <th>1</th>\n",
       "      <td>1971</td>\n",
       "      <td>250.85</td>\n",
       "      <td>516.36</td>\n",
       "      <td>341.93</td>\n",
       "      <td>73.05</td>\n",
       "      <td>132.25</td>\n",
       "      <td>403.74</td>\n",
       "      <td>335.32</td>\n",
       "    </tr>\n",
       "    <tr>\n",
       "      <th>2</th>\n",
       "      <td>1972</td>\n",
       "      <td>248.88</td>\n",
       "      <td>515.38</td>\n",
       "      <td>353.23</td>\n",
       "      <td>68.73</td>\n",
       "      <td>131.78</td>\n",
       "      <td>399.03</td>\n",
       "      <td>339.19</td>\n",
       "    </tr>\n",
       "    <tr>\n",
       "      <th>3</th>\n",
       "      <td>1973</td>\n",
       "      <td>247.48</td>\n",
       "      <td>486.20</td>\n",
       "      <td>356.92</td>\n",
       "      <td>71.76</td>\n",
       "      <td>132.00</td>\n",
       "      <td>410.80</td>\n",
       "      <td>340.26</td>\n",
       "    </tr>\n",
       "    <tr>\n",
       "      <th>4</th>\n",
       "      <td>1974</td>\n",
       "      <td>240.66</td>\n",
       "      <td>502.62</td>\n",
       "      <td>349.17</td>\n",
       "      <td>72.55</td>\n",
       "      <td>126.80</td>\n",
       "      <td>406.40</td>\n",
       "      <td>328.81</td>\n",
       "    </tr>\n",
       "  </tbody>\n",
       "</table>\n",
       "</div>"
      ],
      "text/plain": [
       "   Year   Dairy    Meat    Fats  Fruit  Vegetable   Grain   Sugar\n",
       "0  1970  250.29  508.90  346.18  71.28     134.64  409.81  332.54\n",
       "1  1971  250.85  516.36  341.93  73.05     132.25  403.74  335.32\n",
       "2  1972  248.88  515.38  353.23  68.73     131.78  399.03  339.19\n",
       "3  1973  247.48  486.20  356.92  71.76     132.00  410.80  340.26\n",
       "4  1974  240.66  502.62  349.17  72.55     126.80  406.40  328.81"
      ]
     },
<<<<<<< HEAD
     "execution_count": 3,
=======
     "execution_count": 4,
>>>>>>> baf55d56abfef2b2e95602cd8a5bb4f17cebd968
     "metadata": {},
     "output_type": "execute_result"
    }
   ],
   "source": [
    "#Group by Year, combine into singular DataFrame\n",
    "#Dairy\n",
    "Dairy = dairy.groupby('Year').sum().reset_index()\n",
    "Dairy['Dairy'] = round(Dairy['Calories available daily '],2)\n",
    "total = Dairy[['Year', 'Dairy']]\n",
    "\n",
    "#Meat\n",
    "Meat = meat.groupby('Year').sum().reset_index()\n",
    "total['Meat'] = round(Meat['Calories available daily '],2)\n",
    "\n",
    "#Fats\n",
    "Fats = fats.groupby('Year').sum().reset_index()\n",
    "total['Fats'] = round(Fats['Calories available daily '],2)\n",
    "\n",
    "#Fruits\n",
    "Fruit = fruit.groupby('Year').sum().reset_index()\n",
    "total['Fruit'] = round(Fruit['Calories available daily '],2)\n",
    "\n",
    "#Vegetables\n",
    "Veggie = veggie.groupby('Year').sum().reset_index()\n",
    "total['Vegetable'] = round(Veggie['Calories available daily '],2)\n",
    "\n",
    "#Grain\n",
    "Grain = grain.groupby('Year').sum().reset_index()\n",
    "total['Grain'] = round(Grain['Calories available daily '],2)\n",
    "\n",
    "#Sugar\n",
    "Sugar = sugar.groupby('Year').sum().reset_index()\n",
    "total['Sugar'] = round(Sugar['Calories available daily '],2)\n",
    "\n",
    "total = total.set_index('Year')\n",
    "total2 = round(total.div(total.sum(axis=1), axis=0),4)\n",
    "total2 = total2.reset_index()\n",
    "total = total.reset_index()\n",
    "total.head()"
   ]
  },
  {
   "cell_type": "code",
<<<<<<< HEAD
   "execution_count": 4,
=======
   "execution_count": 5,
>>>>>>> baf55d56abfef2b2e95602cd8a5bb4f17cebd968
   "metadata": {},
   "outputs": [
    {
     "data": {
      "image/png": "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\n",
      "text/plain": [
       "<Figure size 432x288 with 1 Axes>"
      ]
     },
     "metadata": {
      "needs_background": "light"
     },
     "output_type": "display_data"
    }
   ],
   "source": [
    "# Test Graph. Note that the Fats/Grain that were changed will be fixed after we meet on Tueday\n",
    "legend = ['Dairy', 'Vegetables', 'Fruit', 'Meat', 'Grain','Fats', 'Sugar']\n",
    "plt.stackplot(total2.Year, total2.Dairy, \n",
    "         total2.Vegetable,\n",
    "         total2.Fruit,\n",
    "         total2.Meat,  \n",
    "         total2.Grain,\n",
    "         total2.Fats,\n",
    "         total2.Sugar)\n",
    "\n",
    "xposition = [1984, 1992, 2005, 2011]\n",
    "for xc in xposition:\n",
    "   plt.axvline(x=xc, color='black', linestyle='--')\n",
    "\n",
    "\n",
    "\n",
    "#plt.legend(legend)"
   ]
  },
  {
   "cell_type": "code",
<<<<<<< HEAD
   "execution_count": 5,
=======
   "execution_count": 6,
>>>>>>> baf55d56abfef2b2e95602cd8a5bb4f17cebd968
   "metadata": {},
   "outputs": [
    {
     "data": {
      "text/plain": [
       "Text(0.5, 1.0, 'Consumption Percentages of Food Types in 1983')"
      ]
     },
     "execution_count": 6,
     "metadata": {},
     "output_type": "execute_result"
    },
    {
     "data": {
      "image/png": "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\n",
      "text/plain": [
       "<Figure size 432x288 with 1 Axes>"
      ]
     },
     "metadata": {},
     "output_type": "display_data"
    }
   ],
   "source": [
    "# Chris' Block --------------------------------------\n",
    "#1983, index(13)\n",
    "data_1983 = total.loc[13,:]\n",
    "#print(data_1983)\n",
    "data=data_1983[[1,2,3,4,5,6]]\n",
    "#print(data)\n",
    "#Labels\n",
    "legend = ['Dairy', 'Meat', 'Fats', 'Fruit', 'Vegetables', 'Grain']\n",
    "#print(legend)\n",
    "explode = (.1, 0, 0, 0, 0, 0)\n",
    "#pie\n",
    "plt.pie(data, explode=explode, labels=legend, shadow=True, autopct=\"%1.1f%%\", startangle=200)\n",
    "plt.title(\"Consumption Percentages of Food Types in 1983\")"
   ]
  },
  {
   "cell_type": "code",
   "execution_count": null,
   "metadata": {},
   "outputs": [],
   "source": []
<<<<<<< HEAD
  },
  {
   "cell_type": "code",
   "execution_count": 14,
   "metadata": {
    "scrolled": true
   },
   "outputs": [
    {
     "data": {
      "text/plain": [
       "Text(0.5, 1.0, 'Consumption Percentages of Food Types in 1991')"
      ]
     },
     "execution_count": 14,
     "metadata": {},
     "output_type": "execute_result"
    },
    {
     "data": {
      "image/png": "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\n",
      "text/plain": [
       "<Figure size 432x288 with 1 Axes>"
      ]
     },
     "metadata": {},
     "output_type": "display_data"
    }
   ],
   "source": [
    "#Kayti's Block --------------------------------------\n",
    "#1991 index(21)\n",
    "data_1991 = total.loc[21,:]\n",
    "#print(data_1991)\n",
    "data=data_1991[[1,2,3,4,5,6]]\n",
    "#print (data)\n",
    "#Lables\n",
    "legend = ['Dairy', 'Meat', 'Fats', 'Fruit','Vegetables', 'Grain']\n",
    "#print (legend) \n",
    "explode = (0,0,0,0,0,0.1)\n",
    "#make the pie\n",
    "plt.pie(data, explode=explode, labels=legend, shadow= True, autopct = \"%1.1f%%\", startangle=200)\n",
    "plt.title(\"Consumption Percentages of Food Types in 1991\")"
   ]
=======
>>>>>>> baf55d56abfef2b2e95602cd8a5bb4f17cebd968
  }
 ],
 "metadata": {
  "kernelspec": {
   "display_name": "Python 3",
   "language": "python",
   "name": "python3"
  },
  "language_info": {
   "codemirror_mode": {
    "name": "ipython",
    "version": 3
   },
   "file_extension": ".py",
   "mimetype": "text/x-python",
   "name": "python",
   "nbconvert_exporter": "python",
   "pygments_lexer": "ipython3",
   "version": "3.7.1"
  }
 },
 "nbformat": 4,
 "nbformat_minor": 2
}
